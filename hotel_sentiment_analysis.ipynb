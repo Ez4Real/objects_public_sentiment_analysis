{
 "cells": [
  {
   "cell_type": "code",
   "execution_count": 135,
   "metadata": {},
   "outputs": [],
   "source": [
    "#93.8K Review File\n",
    "\n",
    "from datasets import load_dataset\n",
    "\n",
    "df = load_dataset(\n",
    "    \"ashraq/hotel-reviews\",\n",
    "    split='train'\n",
    ").to_pandas()"
   ]
  },
  {
   "cell_type": "code",
   "execution_count": 136,
   "metadata": {},
   "outputs": [
    {
     "data": {
      "text/html": [
       "<div>\n",
       "<style scoped>\n",
       "    .dataframe tbody tr th:only-of-type {\n",
       "        vertical-align: middle;\n",
       "    }\n",
       "\n",
       "    .dataframe tbody tr th {\n",
       "        vertical-align: top;\n",
       "    }\n",
       "\n",
       "    .dataframe thead th {\n",
       "        text-align: right;\n",
       "    }\n",
       "</style>\n",
       "<table border=\"1\" class=\"dataframe\">\n",
       "  <thead>\n",
       "    <tr style=\"text-align: right;\">\n",
       "      <th></th>\n",
       "      <th>review_date</th>\n",
       "      <th>hotel_name</th>\n",
       "      <th>review</th>\n",
       "    </tr>\n",
       "  </thead>\n",
       "  <tbody>\n",
       "    <tr>\n",
       "      <th>0</th>\n",
       "      <td>8/3/2017</td>\n",
       "      <td>Park Plaza County Hall London</td>\n",
       "      <td>Extra bed was the worst breakfast queue was r...</td>\n",
       "    </tr>\n",
       "    <tr>\n",
       "      <th>1</th>\n",
       "      <td>8/3/2017</td>\n",
       "      <td>Park Plaza County Hall London</td>\n",
       "      <td>Just the location and view</td>\n",
       "    </tr>\n",
       "    <tr>\n",
       "      <th>2</th>\n",
       "      <td>8/3/2017</td>\n",
       "      <td>Park Plaza County Hall London</td>\n",
       "      <td>Around the corner from the London eye and use...</td>\n",
       "    </tr>\n",
       "    <tr>\n",
       "      <th>3</th>\n",
       "      <td>8/2/2017</td>\n",
       "      <td>Park Plaza County Hall London</td>\n",
       "      <td>I wish you had wheat free snacks</td>\n",
       "    </tr>\n",
       "    <tr>\n",
       "      <th>4</th>\n",
       "      <td>8/2/2017</td>\n",
       "      <td>Park Plaza County Hall London</td>\n",
       "      <td>You re always my hotel of choice You re staff...</td>\n",
       "    </tr>\n",
       "  </tbody>\n",
       "</table>\n",
       "</div>"
      ],
      "text/plain": [
       "  review_date                     hotel_name  \\\n",
       "0    8/3/2017  Park Plaza County Hall London   \n",
       "1    8/3/2017  Park Plaza County Hall London   \n",
       "2    8/3/2017  Park Plaza County Hall London   \n",
       "3    8/2/2017  Park Plaza County Hall London   \n",
       "4    8/2/2017  Park Plaza County Hall London   \n",
       "\n",
       "                                              review  \n",
       "0   Extra bed was the worst breakfast queue was r...  \n",
       "1                         Just the location and view  \n",
       "2   Around the corner from the London eye and use...  \n",
       "3                   I wish you had wheat free snacks  \n",
       "4   You re always my hotel of choice You re staff...  "
      ]
     },
     "execution_count": 136,
     "metadata": {},
     "output_type": "execute_result"
    }
   ],
   "source": [
    "# 1.\n",
    "\n",
    "df[\"review\"] = df[\"review\"].str[:800]\n",
    "\n",
    "df.head()"
   ]
  },
  {
   "cell_type": "code",
   "execution_count": 137,
   "metadata": {},
   "outputs": [
    {
     "name": "stdout",
     "output_type": "stream",
     "text": [
      "cpu\n"
     ]
    }
   ],
   "source": [
    "# 2.\n",
    "\n",
    "import torch\n",
    "\n",
    "device = 'cuda' if torch.cuda.is_available() else 'cpu'\n",
    "print(device)"
   ]
  },
  {
   "cell_type": "code",
   "execution_count": 138,
   "metadata": {},
   "outputs": [],
   "source": [
    "\n",
    "# 3.\n",
    "\n",
    "from transformers import (\n",
    "    pipeline,\n",
    "    AutoTokenizer,\n",
    "    AutoModelForSequenceClassification\n",
    "    )\n",
    "\n",
    "model_id = \"cardiffnlp/twitter-roberta-base-sentiment\"\n",
    "\n",
    "\n",
    "model = AutoModelForSequenceClassification.from_pretrained(\n",
    "    model_id,\n",
    "    num_labels=3\n",
    ")\n",
    "\n",
    "tokenizer = AutoTokenizer.from_pretrained(model_id)\n",
    "\n",
    "nlp = pipeline(\n",
    "    \"sentiment-analysis\",\n",
    "    model=model,\n",
    "    tokenizer=tokenizer,\n",
    "    device=device\n",
    "    )"
   ]
  },
  {
   "cell_type": "code",
   "execution_count": 139,
   "metadata": {},
   "outputs": [],
   "source": [
    "labels = {\n",
    "    \"LABEL_0\": \"negative\",\n",
    "    \"LABEL_1\": \"neutral\",\n",
    "    \"LABEL_2\": \"positive\"\n",
    "}"
   ]
  },
  {
   "cell_type": "code",
   "execution_count": 140,
   "metadata": {},
   "outputs": [
    {
     "data": {
      "text/plain": [
       "' Extra bed was the worst breakfast queue was really terrible It s easy to tell people to come at a specific time though you have to arrange it somehow Parking is far away and hard to come back because of road diversions '"
      ]
     },
     "execution_count": 140,
     "metadata": {},
     "output_type": "execute_result"
    }
   ],
   "source": [
    "test_review = df[\"review\"][0]\n",
    "test_review"
   ]
  },
  {
   "cell_type": "code",
   "execution_count": 141,
   "metadata": {},
   "outputs": [
    {
     "data": {
      "text/plain": [
       "[{'label': 'LABEL_0', 'score': 0.9065253138542175}]"
      ]
     },
     "execution_count": 141,
     "metadata": {},
     "output_type": "execute_result"
    }
   ],
   "source": [
    "nlp(test_review)"
   ]
  },
  {
   "cell_type": "code",
   "execution_count": 142,
   "metadata": {},
   "outputs": [
    {
     "data": {
      "text/plain": [
       "SentenceTransformer(\n",
       "  (0): Transformer({'max_seq_length': 256, 'do_lower_case': False}) with Transformer model: BertModel \n",
       "  (1): Pooling({'word_embedding_dimension': 384, 'pooling_mode_cls_token': False, 'pooling_mode_mean_tokens': True, 'pooling_mode_max_tokens': False, 'pooling_mode_mean_sqrt_len_tokens': False})\n",
       "  (2): Normalize()\n",
       ")"
      ]
     },
     "execution_count": 142,
     "metadata": {},
     "output_type": "execute_result"
    }
   ],
   "source": [
    "# 4.\n",
    "\n",
    "from sentence_transformers import SentenceTransformer\n",
    "\n",
    "retriever = SentenceTransformer(\n",
    "    'sentence-transformers/all-MiniLM-L6-v2',\n",
    "    device=device\n",
    ")\n",
    "retriever"
   ]
  },
  {
   "cell_type": "code",
   "execution_count": 143,
   "metadata": {},
   "outputs": [],
   "source": [
    "# 5.\n",
    "import pinecone\n",
    "from config import PINECONE_API_KEY, PINECONE_ENV\n",
    "\n",
    "pinecone.init(\n",
    "    api_key=PINECONE_API_KEY,\n",
    "    environment=PINECONE_ENV\n",
    ")\n"
   ]
  },
  {
   "cell_type": "code",
   "execution_count": 144,
   "metadata": {},
   "outputs": [],
   "source": [
    "index_name = \"sentiment-mining\"\n",
    "\n",
    "if index_name not in pinecone.list_indexes():\n",
    "    pinecone.create_index(\n",
    "        index_name,\n",
    "        dimension=384,\n",
    "        metric=\"cosine\"\n",
    "    )\n",
    "\n",
    "index = pinecone.Index(index_name)"
   ]
  },
  {
   "cell_type": "code",
   "execution_count": 145,
   "metadata": {},
   "outputs": [],
   "source": [
    "# 6.\n",
    "\n",
    "index_name = 'sentiment-mining'\n",
    "\n",
    "if index_name not in pinecone.list_indexes():\n",
    "    pinecone.create_index(\n",
    "        index_name,\n",
    "        dimension=384,\n",
    "        metric=\"cosine\"\n",
    "    )\n",
    "\n",
    "index = pinecone.Index(index_name)"
   ]
  },
  {
   "cell_type": "code",
   "execution_count": 146,
   "metadata": {},
   "outputs": [],
   "source": [
    "# 7.\n",
    "\n",
    "def get_sentiment(reviews):\n",
    "    sentiments = nlp(reviews)\n",
    "    l = [labels[x[\"label\"]] for x in sentiments]\n",
    "    s = [x[\"score\"] for x in sentiments]\n",
    "    return l, s"
   ]
  },
  {
   "cell_type": "code",
   "execution_count": 147,
   "metadata": {},
   "outputs": [
    {
     "data": {
      "text/plain": [
       "(['negative', 'neutral', 'positive'],\n",
       " [0.9065253138542175, 0.7716172933578491, 0.8975033760070801])"
      ]
     },
     "execution_count": 147,
     "metadata": {},
     "output_type": "execute_result"
    }
   ],
   "source": [
    "get_sentiment(df[\"review\"][:3].tolist())"
   ]
  },
  {
   "cell_type": "code",
   "execution_count": 148,
   "metadata": {},
   "outputs": [],
   "source": [
    "# 8.\n",
    "\n",
    "import dateutil.parser\n",
    "\n",
    "def get_timestamp(dates):\n",
    "    timestamps = [dateutil.parser.parse(d).timestamp() for d in dates]\n",
    "    return timestamps"
   ]
  },
  {
   "cell_type": "code",
   "execution_count": 149,
   "metadata": {},
   "outputs": [
    {
     "data": {
      "text/plain": [
       "1501707600.0"
      ]
     },
     "execution_count": 149,
     "metadata": {},
     "output_type": "execute_result"
    }
   ],
   "source": [
    "get_timestamp([df[\"review_date\"][0]])[0]"
   ]
  },
  {
   "cell_type": "code",
   "execution_count": 150,
   "metadata": {},
   "outputs": [],
   "source": [
    "# 9.\n",
    "\n",
    "from tqdm.auto import tqdm\n",
    "\n",
    "start_index = 3840\n",
    "batch_size = 128\n",
    "\n",
    "\n",
    "# for i in tqdm(range(start_index, len(df), batch_size)):\n",
    "#     i_end = min(i+batch_size, len(df))\n",
    "#     batch = df.iloc[i:i_end]\n",
    "#     emb = retriever.encode(batch[\"review\"].tolist()).tolist()\n",
    "#     timestamp = get_timestamp(batch[\"review_date\"].tolist())\n",
    "#     batch[\"timestamp\"] = timestamp\n",
    "#     label, score = get_sentiment(batch[\"review\"].tolist())\n",
    "#     batch[\"label\"] = label\n",
    "#     batch[\"score\"] = score\n",
    "#     meta = batch.to_dict(orient=\"records\")\n",
    "#     ids = [f\"{idx}\" for idx in range(i, i_end)]\n",
    "#     to_upsert = list(zip(ids, emb, meta))\n",
    "#     _ = index.upsert(vectors=to_upsert)\n",
    " \n",
    "\n"
   ]
  },
  {
   "cell_type": "code",
   "execution_count": 151,
   "metadata": {},
   "outputs": [
    {
     "data": {
      "text/plain": [
       "{'dimension': 384,\n",
       " 'index_fullness': 0.93757,\n",
       " 'namespaces': {'': {'vector_count': 93757}},\n",
       " 'total_vector_count': 93757}"
      ]
     },
     "execution_count": 151,
     "metadata": {},
     "output_type": "execute_result"
    }
   ],
   "source": [
    "index.describe_index_stats()"
   ]
  },
  {
   "cell_type": "code",
   "execution_count": 152,
   "metadata": {},
   "outputs": [],
   "source": [
    "# 10.\n",
    "\n",
    "query = \"are the customers satisfied with the room sizes in London hotels?\"\n",
    "\n",
    "xq = retriever.encode(query).tolist()\n",
    "\n",
    "result = index.query(xq, top_k=500, include_metadata=True)\n",
    "# result"
   ]
  },
  {
   "cell_type": "code",
   "execution_count": 153,
   "metadata": {},
   "outputs": [],
   "source": [
    "# result[\"matches\"][:2]"
   ]
  },
  {
   "cell_type": "code",
   "execution_count": 154,
   "metadata": {},
   "outputs": [],
   "source": [
    "# 11.\n",
    "\n",
    "# result[\"matches\"][-2:]"
   ]
  },
  {
   "cell_type": "code",
   "execution_count": 155,
   "metadata": {},
   "outputs": [
    {
     "data": {
      "text/plain": [
       "{'negative': 57, 'neutral': 159, 'positive': 284}"
      ]
     },
     "execution_count": 155,
     "metadata": {},
     "output_type": "execute_result"
    }
   ],
   "source": [
    "def count_sentiment(result):\n",
    "    sentiments = {\n",
    "        \"negative\": 0,\n",
    "        \"neutral\": 0,\n",
    "        \"positive\": 0,\n",
    "    }\n",
    "    for r in result[\"matches\"]:\n",
    "        sentiments[r[\"metadata\"][\"label\"]] += 1\n",
    "    return sentiments\n",
    "\n",
    "sentiment = count_sentiment(result)\n",
    "sentiment"
   ]
  },
  {
   "cell_type": "code",
   "execution_count": 156,
   "metadata": {},
   "outputs": [
    {
     "data": {
      "text/plain": [
       "<Axes: >"
      ]
     },
     "execution_count": 156,
     "metadata": {},
     "output_type": "execute_result"
    },
    {
     "data": {
      "image/png": "[encoded data removed]",
      "text/plain": [
       "<Figure size 640x480 with 1 Axes>"
      ]
     },
     "metadata": {},
     "output_type": "display_data"
    }
   ],
   "source": [
    "# 12.\n",
    "\n",
    "import seaborn as sns\n",
    "\n",
    "custom_colors = ['red', 'orange', 'green']\n",
    "\n",
    "sns.barplot(\n",
    "    x=list(sentiment.keys()),\n",
    "    y=list(sentiment.values()),\n",
    "    palette=custom_colors,\n",
    "    hue=list(sentiment.keys())\n",
    ")"
   ]
  },
  {
   "cell_type": "code",
   "execution_count": 157,
   "metadata": {},
   "outputs": [
    {
     "data": {
      "text/plain": [
       "<Axes: >"
      ]
     },
     "execution_count": 157,
     "metadata": {},
     "output_type": "execute_result"
    },
    {
     "data": {
      "image/png": "[encoded data removed]",
      "text/plain": [
       "<Figure size 640x480 with 1 Axes>"
      ]
     },
     "metadata": {},
     "output_type": "display_data"
    }
   ],
   "source": [
    "# 13.\n",
    "\n",
    "start_time = get_timestamp([\"2015-12-25\"])[0]\n",
    "end_time = get_timestamp([\"2015-12-31\"])[0]\n",
    "\n",
    "result = index.query(\n",
    "    xq,\n",
    "    top_k=500,\n",
    "    include_metadata=True,\n",
    "    filter={\"timestamp\": {\"$gte\": start_time, \"$lte\":end_time}})\n",
    "\n",
    "sentiment = count_sentiment(result)\n",
    "\n",
    "sns.barplot(\n",
    "    x=list(sentiment.keys()),\n",
    "    y = list(sentiment.values()),\n",
    "    palette=custom_colors,\n",
    "    hue=list(sentiment.keys())\n",
    ")"
   ]
  },
  {
   "cell_type": "code",
   "execution_count": 158,
   "metadata": {},
   "outputs": [],
   "source": [
    "# 14.\n",
    "\n",
    "hotels =[\n",
    "    \"Strand Palace Hotel\",\n",
    "    \"Britannia International Hotel Canary Wharf\",\n",
    "    \"Grand Royale London Hyde Park\",\n",
    "    \"Intercontinental London The O2\",\n",
    "]\n",
    "\n",
    "queries = {\n",
    "    \"Room Size\": \"are customers happy with the room sizes?\",\n",
    "    \"Cleanliness\": \"are customers satisfied with the cleanliness of the rooms?\",\n",
    "    \"Staff\": \"did the customers like how they were treated by the staff?\",\n",
    "    \"Food\": \"did the customers enjoy the food?\",\n",
    "    \"AC\": \"customer opinion on the AC\"\n",
    "}"
   ]
  },
  {
   "cell_type": "code",
   "execution_count": 159,
   "metadata": {},
   "outputs": [],
   "source": [
    "# 15.\n",
    "\n",
    "import matplotlib.pyplot as plt\n",
    "import pandas as pd\n",
    "\n",
    "hotel_sentiments = []\n",
    "\n",
    "for hotel in hotels:\n",
    "    result = []\n",
    "    \n",
    "    for area, query in queries.items():\n",
    "        xq = retriever.encode(query).tolist()\n",
    "        xc = index.query(xq, top_k=500, include_metadata=True, filter={\"hotel_name\": hotel})\n",
    "        \n",
    "        sentiment = count_sentiment(xc)\n",
    "        \n",
    "        for k, v in sentiment.items():\n",
    "            data = {\n",
    "                \"area\": area,\n",
    "                \"label\": k,\n",
    "                \"value\": v \n",
    "            }\n",
    "            \n",
    "            result.append(data)\n",
    "    \n",
    "    hotel_sentiments.append({\"hotel\": hotel, \"df\": pd.DataFrame(result)})"
   ]
  },
  {
   "cell_type": "code",
   "execution_count": 160,
   "metadata": {},
   "outputs": [
    {
     "data": {
      "text/html": [
       "<div>\n",
       "<style scoped>\n",
       "    .dataframe tbody tr th:only-of-type {\n",
       "        vertical-align: middle;\n",
       "    }\n",
       "\n",
       "    .dataframe tbody tr th {\n",
       "        vertical-align: top;\n",
       "    }\n",
       "\n",
       "    .dataframe thead th {\n",
       "        text-align: right;\n",
       "    }\n",
       "</style>\n",
       "<table border=\"1\" class=\"dataframe\">\n",
       "  <thead>\n",
       "    <tr style=\"text-align: right;\">\n",
       "      <th></th>\n",
       "      <th>area</th>\n",
       "      <th>label</th>\n",
       "      <th>value</th>\n",
       "    </tr>\n",
       "  </thead>\n",
       "  <tbody>\n",
       "    <tr>\n",
       "      <th>0</th>\n",
       "      <td>Room Size</td>\n",
       "      <td>negative</td>\n",
       "      <td>127</td>\n",
       "    </tr>\n",
       "    <tr>\n",
       "      <th>1</th>\n",
       "      <td>Room Size</td>\n",
       "      <td>neutral</td>\n",
       "      <td>187</td>\n",
       "    </tr>\n",
       "    <tr>\n",
       "      <th>2</th>\n",
       "      <td>Room Size</td>\n",
       "      <td>positive</td>\n",
       "      <td>186</td>\n",
       "    </tr>\n",
       "    <tr>\n",
       "      <th>3</th>\n",
       "      <td>Cleanliness</td>\n",
       "      <td>negative</td>\n",
       "      <td>88</td>\n",
       "    </tr>\n",
       "    <tr>\n",
       "      <th>4</th>\n",
       "      <td>Cleanliness</td>\n",
       "      <td>neutral</td>\n",
       "      <td>64</td>\n",
       "    </tr>\n",
       "    <tr>\n",
       "      <th>5</th>\n",
       "      <td>Cleanliness</td>\n",
       "      <td>positive</td>\n",
       "      <td>348</td>\n",
       "    </tr>\n",
       "    <tr>\n",
       "      <th>6</th>\n",
       "      <td>Staff</td>\n",
       "      <td>negative</td>\n",
       "      <td>70</td>\n",
       "    </tr>\n",
       "    <tr>\n",
       "      <th>7</th>\n",
       "      <td>Staff</td>\n",
       "      <td>neutral</td>\n",
       "      <td>36</td>\n",
       "    </tr>\n",
       "    <tr>\n",
       "      <th>8</th>\n",
       "      <td>Staff</td>\n",
       "      <td>positive</td>\n",
       "      <td>394</td>\n",
       "    </tr>\n",
       "    <tr>\n",
       "      <th>9</th>\n",
       "      <td>Food</td>\n",
       "      <td>negative</td>\n",
       "      <td>96</td>\n",
       "    </tr>\n",
       "    <tr>\n",
       "      <th>10</th>\n",
       "      <td>Food</td>\n",
       "      <td>neutral</td>\n",
       "      <td>54</td>\n",
       "    </tr>\n",
       "    <tr>\n",
       "      <th>11</th>\n",
       "      <td>Food</td>\n",
       "      <td>positive</td>\n",
       "      <td>350</td>\n",
       "    </tr>\n",
       "    <tr>\n",
       "      <th>12</th>\n",
       "      <td>AC</td>\n",
       "      <td>negative</td>\n",
       "      <td>174</td>\n",
       "    </tr>\n",
       "    <tr>\n",
       "      <th>13</th>\n",
       "      <td>AC</td>\n",
       "      <td>neutral</td>\n",
       "      <td>100</td>\n",
       "    </tr>\n",
       "    <tr>\n",
       "      <th>14</th>\n",
       "      <td>AC</td>\n",
       "      <td>positive</td>\n",
       "      <td>226</td>\n",
       "    </tr>\n",
       "  </tbody>\n",
       "</table>\n",
       "</div>"
      ],
      "text/plain": [
       "           area     label  value\n",
       "0     Room Size  negative    127\n",
       "1     Room Size   neutral    187\n",
       "2     Room Size  positive    186\n",
       "3   Cleanliness  negative     88\n",
       "4   Cleanliness   neutral     64\n",
       "5   Cleanliness  positive    348\n",
       "6         Staff  negative     70\n",
       "7         Staff   neutral     36\n",
       "8         Staff  positive    394\n",
       "9          Food  negative     96\n",
       "10         Food   neutral     54\n",
       "11         Food  positive    350\n",
       "12           AC  negative    174\n",
       "13           AC   neutral    100\n",
       "14           AC  positive    226"
      ]
     },
     "execution_count": 160,
     "metadata": {},
     "output_type": "execute_result"
    }
   ],
   "source": [
    "hotel_sentiments[0][\"df\"]"
   ]
  },
  {
   "cell_type": "code",
   "execution_count": 161,
   "metadata": {},
   "outputs": [
    {
     "data": {
      "image/png": "[encoded data removed]",
      "text/plain": [
       "<Figure size 2500x450 with 4 Axes>"
      ]
     },
     "metadata": {},
     "output_type": "display_data"
    }
   ],
   "source": [
    "# 16.\n",
    "\n",
    "fig, axs = plt.subplots(nrows=1, ncols=4, figsize=(25, 4.5))\n",
    "plt.subplots_adjust(hspace=0.25)\n",
    "\n",
    "counter = 0\n",
    "\n",
    "for d, ax in zip(hotel_sentiments, axs.ravel()):\n",
    "    sns.barplot(x=\"label\", y=\"value\", hue=\"area\", data=d[\"df\"], ax=ax)\n",
    "    ax.set_title(d[\"hotel\"])\n",
    "    ax.set_xlabel(\"\")\n",
    "    counter += 1\n",
    "    if counter != 1: ax.get_legend().remove()\n",
    "plt.show()"
   ]
  }
 ],
 "metadata": {
  "kernelspec": {
   "display_name": "venv",
   "language": "python",
   "name": "python3"
  },
  "language_info": {
   "codemirror_mode": {
    "name": "ipython",
    "version": 3
   },
   "file_extension": ".py",
   "mimetype": "text/x-python",
   "name": "python",
   "nbconvert_exporter": "python",
   "pygments_lexer": "ipython3",
   "version": "3.10.0"
  }
 },
 "nbformat": 4,
 "nbformat_minor": 2
}
